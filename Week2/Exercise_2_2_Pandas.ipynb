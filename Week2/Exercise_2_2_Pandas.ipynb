{
  "nbformat": 4,
  "nbformat_minor": 0,
  "metadata": {
    "colab": {
      "name": "Exercise_2_2_Pandas.ipynb",
      "private_outputs": true,
      "provenance": [],
      "collapsed_sections": [],
      "include_colab_link": true
    },
    "kernelspec": {
      "name": "python3",
      "display_name": "Python 3"
    }
  },
  "cells": [
    {
      "cell_type": "markdown",
      "metadata": {
        "id": "view-in-github",
        "colab_type": "text"
      },
      "source": [
        "<a href=\"https://colab.research.google.com/github/sagihaider/CE880/blob/main/Week2/Exercise_2_2_Pandas.ipynb\" target=\"_parent\"><img src=\"https://colab.research.google.com/assets/colab-badge.svg\" alt=\"Open In Colab\"/></a>"
      ]
    },
    {
      "cell_type": "markdown",
      "metadata": {
        "id": "DeKRcpe49VnV"
      },
      "source": [
        "# CE880: An Approachable Introduction to Data Science\n",
        "### Prepared by: Haider Raza (h.raza@essex.ac.uk)\n",
        "### Approximate time: 120 minutes\n",
        "\n",
        "***\n",
        "\n",
        "# Pandas DataFrame UltraQuick Tutorial\n",
        "\n",
        "This Colab introduces [**DataFrames**](https://pandas.pydata.org/pandas-docs/stable/reference/api/pandas.DataFrame.html), which are the central data structure in the pandas API. This Colab is not a comprehensive DataFrames tutorial.  Rather, this Colab provides a very quick introduction to the parts of DataFrames required to do the other Colab exercises in Machine Learning Crash Course.\n",
        "\n",
        "A DataFrame is similar to an in-memory spreadsheet. Like a spreadsheet:\n",
        "\n",
        "  * A DataFrame stores data in cells. \n",
        "  * A DataFrame has named columns (usually) and numbered rows."
      ]
    },
    {
      "cell_type": "markdown",
      "metadata": {
        "id": "AByfHsr8H_sU"
      },
      "source": [
        "## Import NumPy and pandas modules\n",
        "\n",
        "Run the following code cell to import the NumPy and pandas modules. "
      ]
    },
    {
      "cell_type": "code",
      "metadata": {
        "id": "ZmL0l551Iibq"
      },
      "source": [
        "import numpy as np\n",
        "import pandas as pd"
      ],
      "execution_count": null,
      "outputs": []
    },
    {
      "cell_type": "markdown",
      "metadata": {
        "id": "KgyzKky44ZJH"
      },
      "source": [
        "### Object creation\n",
        "See the Data Structure Intro section.\n",
        "\n",
        "Creating a Series by passing a list of values, letting pandas create a default integer index:"
      ]
    },
    {
      "cell_type": "code",
      "metadata": {
        "id": "xUTfYV7R4fMv"
      },
      "source": [
        "s = pd.Series([1, 3, 5, np.nan, 6, 8])\n",
        "s"
      ],
      "execution_count": null,
      "outputs": []
    },
    {
      "cell_type": "markdown",
      "metadata": {
        "id": "a0htbe1J4oXz"
      },
      "source": [
        "Creating a DataFrame by passing a NumPy array, with a datetime index and labeled columns:"
      ]
    },
    {
      "cell_type": "code",
      "metadata": {
        "id": "1otPJPoD4quf"
      },
      "source": [
        "dates = pd.date_range(\"20130101\", periods=6)\n",
        "dates"
      ],
      "execution_count": null,
      "outputs": []
    },
    {
      "cell_type": "code",
      "metadata": {
        "id": "rDC6o_JN4vp4"
      },
      "source": [
        "df = pd.DataFrame(np.random.randn(6, 4), index=dates, columns=list(\"ABCD\"))\n",
        "df"
      ],
      "execution_count": null,
      "outputs": []
    },
    {
      "cell_type": "markdown",
      "metadata": {
        "id": "MEjk01YD4z8A"
      },
      "source": [
        "Creating a DataFrame by passing a dict of objects that can be converted to series-like."
      ]
    },
    {
      "cell_type": "code",
      "metadata": {
        "id": "EQxaJLyY42NA"
      },
      "source": [
        "df2 = pd.DataFrame(\n",
        "    {\n",
        "        \"A\": 1.0,\n",
        "        \"B\": pd.Timestamp(\"20130102\"),\n",
        "        \"C\": pd.Series(1, index=list(range(4)), dtype=\"float32\"),\n",
        "        \"D\": np.array([3] * 4, dtype=\"int32\"),\n",
        "        \"E\": pd.Categorical([\"test\", \"train\", \"test\", \"train\"]),\n",
        "        \"F\": \"foo\",\n",
        "    }\n",
        ")\n",
        "df2"
      ],
      "execution_count": null,
      "outputs": []
    },
    {
      "cell_type": "markdown",
      "metadata": {
        "id": "WzdWgtGj45z2"
      },
      "source": [
        "The columns of the resulting DataFrame have different dtypes."
      ]
    },
    {
      "cell_type": "code",
      "metadata": {
        "id": "-oBq4tXX47e4"
      },
      "source": [
        "df2.dtypes"
      ],
      "execution_count": null,
      "outputs": []
    },
    {
      "cell_type": "markdown",
      "metadata": {
        "id": "8Bjq83t849z8"
      },
      "source": [
        "If you’re using IPython, tab completion for column names (as well as public attributes) is automatically enabled. Here’s a subset of the attributes that will be completed:"
      ]
    },
    {
      "cell_type": "markdown",
      "metadata": {
        "id": "6nL4mfTg5p4j"
      },
      "source": [
        "### Viewing data\n",
        "See the Basics section.\n",
        "\n",
        "Here is how to view the top and bottom rows of the frame:"
      ]
    },
    {
      "cell_type": "code",
      "metadata": {
        "id": "EF_pD7yk5tqh"
      },
      "source": [
        "df.head() # View top 5 rows"
      ],
      "execution_count": null,
      "outputs": []
    },
    {
      "cell_type": "code",
      "metadata": {
        "id": "x84v4DA_5v7H"
      },
      "source": [
        "df.tail(3) ## View last three rows"
      ],
      "execution_count": null,
      "outputs": []
    },
    {
      "cell_type": "markdown",
      "metadata": {
        "id": "vh9I_haW54jG"
      },
      "source": [
        "Display the index, columns:"
      ]
    },
    {
      "cell_type": "code",
      "metadata": {
        "id": "sFBoLKD759XY"
      },
      "source": [
        "df.index"
      ],
      "execution_count": null,
      "outputs": []
    },
    {
      "cell_type": "code",
      "metadata": {
        "id": "FxlCkV986AAG"
      },
      "source": [
        "df.columns"
      ],
      "execution_count": null,
      "outputs": []
    },
    {
      "cell_type": "markdown",
      "metadata": {
        "id": "DySyNQ5Q6F22"
      },
      "source": [
        "`DataFrame.to_numpy()` gives a NumPy representation of the underlying data. Note that this can be an expensive operation when your `DataFrame` has columns with different data types, which comes down to a fundamental difference between `pandas` and `NumPy`: NumPy arrays have one dtype for the entire array, while pandas DataFrames have one dtype per column. When you call `DataFrame.to_numpy()`, pandas will find the NumPy dtype that can hold all of the dtypes in the DataFrame. This may end up being object, which requires casting every value to a Python object.\n",
        "\n",
        "For df, our DataFrame of all floating-point values, `DataFrame.to_numpy()` is fast and doesn’t require copying data."
      ]
    },
    {
      "cell_type": "code",
      "metadata": {
        "id": "QuS9mE-B6PFh"
      },
      "source": [
        "df.to_numpy()"
      ],
      "execution_count": null,
      "outputs": []
    },
    {
      "cell_type": "markdown",
      "metadata": {
        "id": "fvdZwOTT6UIb"
      },
      "source": [
        "For df2, the DataFrame with multiple dtypes, DataFrame.to_numpy() is relatively expensive."
      ]
    },
    {
      "cell_type": "code",
      "metadata": {
        "id": "rRqHEqPn6V8r"
      },
      "source": [
        "df2.to_numpy()"
      ],
      "execution_count": null,
      "outputs": []
    },
    {
      "cell_type": "markdown",
      "metadata": {
        "id": "jngeZzVQ6ZnD"
      },
      "source": [
        "`describe()` shows a quick statistic summary of your data:\n",
        "\n"
      ]
    },
    {
      "cell_type": "code",
      "metadata": {
        "id": "w3ooHz0I6ekn"
      },
      "source": [
        "df.describe()"
      ],
      "execution_count": null,
      "outputs": []
    },
    {
      "cell_type": "markdown",
      "metadata": {
        "id": "_ABD9EoC6jMi"
      },
      "source": [
        "Transposing your data:"
      ]
    },
    {
      "cell_type": "code",
      "metadata": {
        "id": "MhWZPeVr6h6L"
      },
      "source": [
        "df.T"
      ],
      "execution_count": null,
      "outputs": []
    },
    {
      "cell_type": "markdown",
      "metadata": {
        "id": "v9NoGcaO6n2e"
      },
      "source": [
        "Sorting by an axis:"
      ]
    },
    {
      "cell_type": "code",
      "metadata": {
        "id": "0Gs1c5kt6p3L"
      },
      "source": [
        "df.sort_index(axis=1, ascending=False)"
      ],
      "execution_count": null,
      "outputs": []
    },
    {
      "cell_type": "markdown",
      "metadata": {
        "id": "QL6ABwCG6sNZ"
      },
      "source": [
        "Sorting by values:"
      ]
    },
    {
      "cell_type": "code",
      "metadata": {
        "id": "7Pcqrw396t9P"
      },
      "source": [
        "df.sort_values(by=\"B\")"
      ],
      "execution_count": null,
      "outputs": []
    },
    {
      "cell_type": "markdown",
      "metadata": {
        "id": "aZ2MoIPl81dk"
      },
      "source": [
        "### Data Selection\n",
        "\n",
        "While standard Python / NumPy expressions for selecting and setting are intuitive and come in handy for interactive work, for production code, we recommend the optimized pandas data access methods, `.at`, `.iat`, `.loc` and `.iloc`.\n",
        "\n",
        "#### Getting\n",
        "Selecting a single column, which yields a Series, equivalent to `df.A`:"
      ]
    },
    {
      "cell_type": "code",
      "metadata": {
        "id": "rJMQIh-V9K-Y"
      },
      "source": [
        "df[\"A\"]"
      ],
      "execution_count": null,
      "outputs": []
    },
    {
      "cell_type": "markdown",
      "metadata": {
        "id": "chGqPbGg9OFO"
      },
      "source": [
        "Selecting via `[]`, which slices the rows."
      ]
    },
    {
      "cell_type": "code",
      "metadata": {
        "id": "0Z9GJ2HR9RCD"
      },
      "source": [
        "df[0:3]"
      ],
      "execution_count": null,
      "outputs": []
    },
    {
      "cell_type": "code",
      "metadata": {
        "id": "cosvAfZT9UdM"
      },
      "source": [
        "df[\"20130102\":\"20130104\"]"
      ],
      "execution_count": null,
      "outputs": []
    },
    {
      "cell_type": "markdown",
      "metadata": {
        "id": "EnhEhCA39bcj"
      },
      "source": [
        "###Selection by label\n",
        "\n",
        "See more in Selection by Label.\n",
        "For getting a cross section using a label:"
      ]
    },
    {
      "cell_type": "code",
      "metadata": {
        "id": "Zo0qWzgx9fPo"
      },
      "source": [
        "df.loc[dates[0]]"
      ],
      "execution_count": null,
      "outputs": []
    },
    {
      "cell_type": "markdown",
      "metadata": {
        "id": "Urd0dftQ9jb3"
      },
      "source": [
        "Selecting on a multi-axis by label:"
      ]
    },
    {
      "cell_type": "code",
      "metadata": {
        "id": "UF2gz2ii9lDq"
      },
      "source": [
        "df.loc[:, [\"A\", \"B\"]]"
      ],
      "execution_count": null,
      "outputs": []
    },
    {
      "cell_type": "markdown",
      "metadata": {
        "id": "CAHH_auR9ncS"
      },
      "source": [
        "Showing label slicing, both endpoints are included:"
      ]
    },
    {
      "cell_type": "code",
      "metadata": {
        "id": "ushcM_TH9pXA"
      },
      "source": [
        "df.loc[\"20130102\":\"20130104\", [\"A\", \"B\"]]"
      ],
      "execution_count": null,
      "outputs": []
    },
    {
      "cell_type": "markdown",
      "metadata": {
        "id": "MTTzs3rG9sSd"
      },
      "source": [
        "Reduction in the dimensions of the returned object:"
      ]
    },
    {
      "cell_type": "code",
      "metadata": {
        "id": "GyAXe-iC9t_e"
      },
      "source": [
        "df.loc[\"20130102\", [\"A\", \"B\"]]"
      ],
      "execution_count": null,
      "outputs": []
    },
    {
      "cell_type": "markdown",
      "metadata": {
        "id": "ib3CehLk9wGC"
      },
      "source": [
        "For getting a scalar value:"
      ]
    },
    {
      "cell_type": "code",
      "metadata": {
        "id": "kGT67B509ywk"
      },
      "source": [
        "df.loc[dates[0], \"A\"]"
      ],
      "execution_count": null,
      "outputs": []
    },
    {
      "cell_type": "markdown",
      "metadata": {
        "id": "3Z675PXY933y"
      },
      "source": [
        "For getting fast access to a scalar (equivalent to the prior method):"
      ]
    },
    {
      "cell_type": "code",
      "metadata": {
        "id": "Q24kN_lw95Wa"
      },
      "source": [
        "df.at[dates[0], \"A\"]"
      ],
      "execution_count": null,
      "outputs": []
    },
    {
      "cell_type": "markdown",
      "metadata": {
        "id": "yqUoZvC1-BEs"
      },
      "source": [
        "### Selection by position\n",
        "See more in Selection by Position.\n",
        "Select via the position of the passed integers:"
      ]
    },
    {
      "cell_type": "code",
      "metadata": {
        "id": "TyPgmktk-Eca"
      },
      "source": [
        "df.iloc[3]"
      ],
      "execution_count": null,
      "outputs": []
    },
    {
      "cell_type": "markdown",
      "metadata": {
        "id": "y4hyxdoE-HHY"
      },
      "source": [
        "By integer slices, acting similar to NumPy/Python:"
      ]
    },
    {
      "cell_type": "code",
      "metadata": {
        "id": "v8HaV4iP-I99"
      },
      "source": [
        "df.iloc[3:5, 0:2]"
      ],
      "execution_count": null,
      "outputs": []
    },
    {
      "cell_type": "markdown",
      "metadata": {
        "id": "4r3OxKY5-LQD"
      },
      "source": [
        "By lists of integer position locations, similar to the NumPy/Python style:"
      ]
    },
    {
      "cell_type": "code",
      "metadata": {
        "id": "_Uzg5L0G-M3e"
      },
      "source": [
        "df.iloc[[1, 2, 4], [0, 2]]"
      ],
      "execution_count": null,
      "outputs": []
    },
    {
      "cell_type": "markdown",
      "metadata": {
        "id": "rkBTVvT8-O8M"
      },
      "source": [
        "For slicing rows explicitly:"
      ]
    },
    {
      "cell_type": "code",
      "metadata": {
        "id": "1nOi1oUp-Qiw"
      },
      "source": [
        "df.iloc[1:3, :]"
      ],
      "execution_count": null,
      "outputs": []
    },
    {
      "cell_type": "markdown",
      "metadata": {
        "id": "_oAUyK-t-Se7"
      },
      "source": [
        "For slicing columns explicitly:"
      ]
    },
    {
      "cell_type": "code",
      "metadata": {
        "id": "wQGwzwBV-UGm"
      },
      "source": [
        "df.iloc[:, 1:3]"
      ],
      "execution_count": null,
      "outputs": []
    },
    {
      "cell_type": "markdown",
      "metadata": {
        "id": "SLAy3F7X-WKv"
      },
      "source": [
        "For getting a value explicitly:"
      ]
    },
    {
      "cell_type": "code",
      "metadata": {
        "id": "3mO7WEbx-X1C"
      },
      "source": [
        "df.iloc[1, 1]"
      ],
      "execution_count": null,
      "outputs": []
    },
    {
      "cell_type": "markdown",
      "metadata": {
        "id": "78XgUCqB-btg"
      },
      "source": [
        "For getting fast access to a scalar (equivalent to the prior method):\n",
        "\n"
      ]
    },
    {
      "cell_type": "code",
      "metadata": {
        "id": "_xNcbMPm-deF"
      },
      "source": [
        "df.iat[1, 1]\n"
      ],
      "execution_count": null,
      "outputs": []
    },
    {
      "cell_type": "markdown",
      "metadata": {
        "id": "shch5elH-lMu"
      },
      "source": [
        "### Boolean indexing\n",
        "Using a single column’s values to select data.\n",
        "\n"
      ]
    },
    {
      "cell_type": "code",
      "metadata": {
        "id": "pOB8aDu4-nT4"
      },
      "source": [
        "df[df[\"A\"] > 0]"
      ],
      "execution_count": null,
      "outputs": []
    },
    {
      "cell_type": "markdown",
      "metadata": {
        "id": "Jn0yIZej-p2k"
      },
      "source": [
        "Selecting values from a DataFrame where a boolean condition is met."
      ]
    },
    {
      "cell_type": "code",
      "metadata": {
        "id": "VNKsIGFr-rQZ"
      },
      "source": [
        "df[df > 0]"
      ],
      "execution_count": null,
      "outputs": []
    },
    {
      "cell_type": "markdown",
      "metadata": {
        "id": "yjRNC6i1-tsB"
      },
      "source": [
        "Using the `isin()` method for filtering:"
      ]
    },
    {
      "cell_type": "code",
      "metadata": {
        "id": "uMoIrdMR-wfB"
      },
      "source": [
        "df2 = df.copy()\n",
        "df2[\"E\"] = [\"one\", \"one\", \"two\", \"three\", \"four\", \"three\"]\n",
        "df2"
      ],
      "execution_count": null,
      "outputs": []
    },
    {
      "cell_type": "code",
      "metadata": {
        "id": "UtiMtY2o-4dD"
      },
      "source": [
        "df2[df2[\"E\"].isin([\"two\", \"four\"])]"
      ],
      "execution_count": null,
      "outputs": []
    },
    {
      "cell_type": "markdown",
      "metadata": {
        "id": "BCsB3xVV_eBn"
      },
      "source": [
        "### Setting\n",
        "Setting a new column automatically aligns the data by the indexes."
      ]
    },
    {
      "cell_type": "code",
      "metadata": {
        "id": "tycWWEIr_gnP"
      },
      "source": [
        "s1 = pd.Series([1, 2, 3, 4, 5, 6], index=pd.date_range(\"20130102\", periods=6))\n",
        "s1"
      ],
      "execution_count": null,
      "outputs": []
    },
    {
      "cell_type": "code",
      "metadata": {
        "id": "o0ySI6Sp_lY_"
      },
      "source": [
        "df[\"F\"] = s1\n",
        "df"
      ],
      "execution_count": null,
      "outputs": []
    },
    {
      "cell_type": "markdown",
      "metadata": {
        "id": "weJORbfW_wTt"
      },
      "source": [
        "Setting values by label:"
      ]
    },
    {
      "cell_type": "code",
      "metadata": {
        "id": "fFQVSUwY_xzM"
      },
      "source": [
        "df.at[dates[0], \"A\"] = 0"
      ],
      "execution_count": null,
      "outputs": []
    },
    {
      "cell_type": "markdown",
      "metadata": {
        "id": "XEopNtdi_1eX"
      },
      "source": [
        "Setting values by position:"
      ]
    },
    {
      "cell_type": "code",
      "metadata": {
        "id": "-XJz5yxT_20D"
      },
      "source": [
        "df.iat[0, 1] = 0"
      ],
      "execution_count": null,
      "outputs": []
    },
    {
      "cell_type": "markdown",
      "metadata": {
        "id": "FsGGxGwV_4ot"
      },
      "source": [
        "Setting by assigning with a NumPy array:"
      ]
    },
    {
      "cell_type": "code",
      "metadata": {
        "id": "Mup0JknQ_6SJ"
      },
      "source": [
        "df.loc[:, \"D\"] = np.array([5] * len(df))\n",
        "df"
      ],
      "execution_count": null,
      "outputs": []
    },
    {
      "cell_type": "markdown",
      "metadata": {
        "id": "Jf3462vSAJL5"
      },
      "source": [
        "### Missing data\n",
        "pandas primarily uses the value `np.nan` to represent missing data. It is by default not included in computations. See the Missing Data section.\n",
        "\n",
        "Reindexing allows you to change/add/delete the index on a specified axis. This returns a copy of the data."
      ]
    },
    {
      "cell_type": "code",
      "metadata": {
        "id": "M9xYITlRAOMo"
      },
      "source": [
        "df1 = df.reindex(index=dates[0:4], columns=list(df.columns) + [\"E\"])\n",
        "df1.loc[dates[0] : dates[1], \"E\"] = 1\n",
        "df1"
      ],
      "execution_count": null,
      "outputs": []
    },
    {
      "cell_type": "markdown",
      "metadata": {
        "id": "2X-D736XAw6u"
      },
      "source": [
        "To drop any rows that have missing data."
      ]
    },
    {
      "cell_type": "code",
      "metadata": {
        "id": "3YuOzc9gAyfH"
      },
      "source": [
        "df1.dropna(how=\"any\")"
      ],
      "execution_count": null,
      "outputs": []
    },
    {
      "cell_type": "markdown",
      "metadata": {
        "id": "ozNqBwSyA5g8"
      },
      "source": [
        "Filling missing data."
      ]
    },
    {
      "cell_type": "code",
      "metadata": {
        "id": "HV3JHrmhA7Ez"
      },
      "source": [
        "df1.fillna(value=5)"
      ],
      "execution_count": null,
      "outputs": []
    },
    {
      "cell_type": "markdown",
      "metadata": {
        "id": "8HOycynkBI7j"
      },
      "source": [
        "To get the boolean mask where values are `nan`."
      ]
    },
    {
      "cell_type": "code",
      "metadata": {
        "id": "ULMEDPlPBLce"
      },
      "source": [
        "pd.isna(df1)"
      ],
      "execution_count": null,
      "outputs": []
    },
    {
      "cell_type": "markdown",
      "metadata": {
        "id": "qzPzn2iUBOrD"
      },
      "source": [
        "### Operations\n",
        "\n",
        "#### Stats\n",
        "Operations in general exclude missing data.\n",
        "Performing a descriptive statistic:"
      ]
    },
    {
      "cell_type": "code",
      "metadata": {
        "id": "FJj7gEBkBUCO"
      },
      "source": [
        "df.mean()\n"
      ],
      "execution_count": null,
      "outputs": []
    },
    {
      "cell_type": "markdown",
      "metadata": {
        "id": "jd4rMw9bBY6p"
      },
      "source": [
        "Same operation on the other axis:"
      ]
    },
    {
      "cell_type": "code",
      "metadata": {
        "id": "JfrZ-JzgBabw"
      },
      "source": [
        "df.mean(1)"
      ],
      "execution_count": null,
      "outputs": []
    },
    {
      "cell_type": "markdown",
      "metadata": {
        "id": "lAz9aUm5Bcpt"
      },
      "source": [
        "Operating with objects that have different dimensionality and need alignment. In addition, pandas automatically broadcasts along the specified dimension."
      ]
    },
    {
      "cell_type": "code",
      "metadata": {
        "id": "TF5Cz33QBgZW"
      },
      "source": [
        "s = pd.Series([1, 3, 5, np.nan, 6, 8], index=dates).shift(2)\n",
        "s"
      ],
      "execution_count": null,
      "outputs": []
    },
    {
      "cell_type": "code",
      "metadata": {
        "id": "fQ5F0rTEBoWS"
      },
      "source": [
        "df"
      ],
      "execution_count": null,
      "outputs": []
    },
    {
      "cell_type": "code",
      "metadata": {
        "id": "7m7gc6U5BmVW"
      },
      "source": [
        "df.sub(s, axis=\"index\")"
      ],
      "execution_count": null,
      "outputs": []
    },
    {
      "cell_type": "markdown",
      "metadata": {
        "id": "24N2dhB-Dp4W"
      },
      "source": [
        "### String Methods\n",
        "Series is equipped with a set of string processing methods in the str attribute that make it easy to operate on each element of the array, as in the code snippet below. Note that pattern-matching in str generally uses regular expressions by default (and in some cases always uses them). See more at Vectorized String Methods."
      ]
    },
    {
      "cell_type": "code",
      "metadata": {
        "id": "GsmRIdG1Ds7C"
      },
      "source": [
        "s = pd.Series([\"A\", \"B\", \"C\", \"Aaba\", \"Baca\", np.nan, \"CABA\", \"dog\", \"cat\"])\n",
        "s"
      ],
      "execution_count": null,
      "outputs": []
    },
    {
      "cell_type": "code",
      "metadata": {
        "id": "YHLsMH1YDwBs"
      },
      "source": [
        "s.str.lower()"
      ],
      "execution_count": null,
      "outputs": []
    },
    {
      "cell_type": "markdown",
      "metadata": {
        "id": "VvyAygRQEG9J"
      },
      "source": [
        "###Merge\n",
        "####Concat\n",
        "pandas provides various facilities for easily combining together Series and DataFrame objects with various kinds of set logic for the indexes and relational algebra functionality in the case of join / merge-type operations.\n",
        "Concatenating pandas objects together with `concat()`:"
      ]
    },
    {
      "cell_type": "code",
      "metadata": {
        "id": "4NganWeqENF7"
      },
      "source": [
        "df = pd.DataFrame(np.random.randn(10, 4))\n",
        "df"
      ],
      "execution_count": null,
      "outputs": []
    },
    {
      "cell_type": "code",
      "metadata": {
        "id": "CIg9fNORES0z"
      },
      "source": [
        "pieces = [df[:3], df[3:7], df[7:]]\n",
        "pieces"
      ],
      "execution_count": null,
      "outputs": []
    },
    {
      "cell_type": "code",
      "metadata": {
        "id": "X1cH3TDlEY2T"
      },
      "source": [
        "pd.concat(pieces)"
      ],
      "execution_count": null,
      "outputs": []
    },
    {
      "cell_type": "markdown",
      "metadata": {
        "id": "UvJZEhz3EhBP"
      },
      "source": [
        "### Grouping\n",
        "\n",
        "By “group by” we are referring to a process involving one or more of the following steps:\n",
        "\n",
        "* Splitting the data into groups based on some criteria\n",
        "* Applying a function to each group independently\n",
        "* Combining the results into a data structure"
      ]
    },
    {
      "cell_type": "code",
      "metadata": {
        "id": "dkzEIoy2EqUl"
      },
      "source": [
        "df = pd.DataFrame(\n",
        "    {\n",
        "        \"A\": [\"foo\", \"bar\", \"foo\", \"bar\", \"foo\", \"bar\", \"foo\", \"foo\"],\n",
        "        \"B\": [\"one\", \"one\", \"two\", \"three\", \"two\", \"two\", \"one\", \"three\"],\n",
        "        \"C\": np.random.randn(8),\n",
        "        \"D\": np.random.randn(8),\n",
        "    }\n",
        ")\n",
        "df"
      ],
      "execution_count": null,
      "outputs": []
    },
    {
      "cell_type": "markdown",
      "metadata": {
        "id": "un5gyY2zEvBA"
      },
      "source": [
        "Grouping and then applying the `sum()` function to the resulting groups."
      ]
    },
    {
      "cell_type": "code",
      "metadata": {
        "id": "EoWLBttzExh_"
      },
      "source": [
        "df.groupby(\"A\").sum()"
      ],
      "execution_count": null,
      "outputs": []
    },
    {
      "cell_type": "markdown",
      "metadata": {
        "id": "LSRx9069Ezzi"
      },
      "source": [
        "Grouping by multiple columns forms a hierarchical index, and again we can apply the `sum()` function."
      ]
    },
    {
      "cell_type": "code",
      "metadata": {
        "id": "BrwYrDITE2ZZ"
      },
      "source": [
        "df.groupby([\"A\", \"B\"]).sum()"
      ],
      "execution_count": null,
      "outputs": []
    }
  ]
}