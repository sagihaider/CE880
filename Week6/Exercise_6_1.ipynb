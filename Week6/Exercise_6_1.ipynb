{
  "nbformat": 4,
  "nbformat_minor": 0,
  "metadata": {
    "colab": {
      "provenance": []
    },
    "kernelspec": {
      "name": "python3",
      "display_name": "Python 3"
    },
    "language_info": {
      "name": "python"
    }
  },
  "cells": [
    {
      "cell_type": "markdown",
      "source": [
        "# CE880: An Approachable Introduction to Data Science\n",
        "### Prepared by: Haider Raza (h.raza@essex.ac.uk)\n",
        "### Approximate time: 120 minutes\n",
        "\n",
        "***\n",
        "## Learning Outcome \n",
        "---\n",
        "#### Classification/Evaluation Metrics\n",
        "--- \n",
        "* Confusion Matrix\n",
        "* False Positive Rate (Type-I Error)\n",
        "* False Negative Rate (Type-II Error)\n",
        "* Accuracy \n",
        "* Recall (True Positive Rate / Sensitivity)\n",
        "* Precision\n",
        "* F-Beta\n",
        "* Cohen - Kappa\n",
        "* ROC - AUC Score\n",
        "* PR Curve\n",
        "\n",
        "\n",
        "<p align=\"center\">\n",
        "  <img width=\"900\" height=\"500\" src=\"https://pbs.twimg.com/media/FPX2rSDXwAEXPkN?format=png&name=900x900\">\n",
        "</p>"
      ],
      "metadata": {
        "id": "1GSQqO74NOWP"
      }
    },
    {
      "cell_type": "markdown",
      "source": [
        "## Prerequisites\n",
        "\n",
        "* **Condition positive (P)**: the number of real positive cases in the data\n",
        "* **Condition negative (N)** the number of real negative cases in the data\n",
        "\n",
        "* **True positive**: Sick people correctly identified as sick\n",
        "* **False positive**: Healthy people incorrectly identified as sick\n",
        "* **True negative**: Healthy people correctly identified as healthy\n",
        "* **False negative**: Sick people incorrectly identified as healthy\n",
        "\n",
        "<p align=\"center\">\n",
        "  <img width=\"500\" height=\"300\" src=\"https://pbs.twimg.com/media/FQGkKEZWQAco1Xu?format=jpg&name=medium\">\n",
        "</p>\n",
        "\n",
        "## Classification Accuracy \n",
        "\n",
        "<p align=\"center\">\n",
        "  <img width=\"400\" height=\"90\" src=\"https://miro.medium.com/max/1400/0*qLxAWTs-gZjQvTi4.jpg\">\n",
        "</p>\n",
        "\n",
        "Classification accuracy is the ratio of correct predictions to total predictions made.\n",
        "\n",
        "`classification accuracy = correct predictions / total predictions`\n",
        "\n",
        "i.e. 80 out of 100 samples are correctly classified. Then `80/100 = 0.8` \n",
        "\n",
        "It is often presented as a percentage (%) by multiplying the result by 100.\n",
        "\n",
        "`classification accuracy = correct predictions / total predictions * 100`\n",
        "`80/100 * 100 = 80%` \n",
        "\n",
        "Classification accuracy can also easily be turned into a misclassification rate or error rate by inverting the value, such as:\n",
        "\n",
        "`error rate = (1 - (correct predictions / total predictions)) * 100`\n",
        "\n",
        "\n",
        "#### Problem with classification accuracy:\n",
        "\n",
        "**When your data has more than 2 classes**: \n",
        "With 3 or more classes you may get a classification accuracy of 80%, but you don’t know if that is because all classes are being predicted equally well or whether one or two classes are being neglected by the model.\n",
        "\n",
        "**When your data does not have an even number of classes (Data Imbalance)**:\n",
        "You may achieve accuracy of 90% or more, but this is not a good score if 90 records for every 100 belong to one class and you can achieve this score by always predicting the most common class value.\n",
        "\n",
        "Classification accuracy can hide the detail you need to diagnose the performance of your model. But thankfully we can tease apart this detail by using a **confusion matrix**."
      ],
      "metadata": {
        "id": "VoDjGeGsCVYb"
      }
    },
    {
      "cell_type": "markdown",
      "source": [
        "## Confusion Matrix\n",
        "\n",
        "A confusion matrix is a summary of prediction results on a classification problem. In other words, the confusion matrix shows the ways in which your classification model is confused when it makes predictions.\n",
        "\n",
        "It gives you insight not only into the ***errors*** being made by your classifier but more importantly the ***types of errors*** that are being made.\n",
        "\n",
        "<p align=\"center\">\n",
        "  <img width=\"400\" height=\"250\" src=\"https://miro.medium.com/max/1400/1*fxiTNIgOyvAombPJx5KGeA.png\">\n",
        "</p>\n",
        "\n",
        "**Example**: Two-class classification problem of predicting whether a photograph contains a Cat or a Dog.\n",
        "\n",
        "We have a test dataset of 10 records with expected outcomes and a set of predictions from our classification algorithm.\n",
        "\n",
        "### Accuracy"
      ],
      "metadata": {
        "id": "RECiyZ1TOpNx"
      }
    },
    {
      "cell_type": "code",
      "source": [
        "# Classification Accuracy\n",
        "from sklearn.metrics import accuracy_score\n",
        "\n",
        "YTrue = ['Dog', 'Dog', 'Cat', 'Dog', 'Cat', 'Cat', 'Cat', 'Dog', 'Dog', 'Cat']\n",
        "YPred = ['Dog', 'Cat', 'Cat', 'Dog', 'Dog', 'Dog', 'Cat', 'Dog', 'Dog', 'Cat']\n",
        "\n",
        "accuracy_score(YTrue, YPred)*100"
      ],
      "metadata": {
        "colab": {
          "base_uri": "https://localhost:8080/"
        },
        "id": "mDjkx5X00J3k",
        "outputId": "99262149-8d41-4259-b217-d33914316553"
      },
      "execution_count": null,
      "outputs": [
        {
          "output_type": "execute_result",
          "data": {
            "text/plain": [
              "70.0"
            ]
          },
          "metadata": {},
          "execution_count": 17
        }
      ]
    },
    {
      "cell_type": "code",
      "source": [
        "# Confusion Matrix\n",
        "from sklearn.metrics import confusion_matrix\n",
        "\n",
        "cf_matrix = confusion_matrix(YTrue, YPred, labels = ['Dog', 'Cat'])\n",
        "print(cf_matrix)"
      ],
      "metadata": {
        "colab": {
          "base_uri": "https://localhost:8080/"
        },
        "id": "W3cqEUZV1aHY",
        "outputId": "a0a7772b-aacb-485e-cd88-5d10fd8a3de4"
      },
      "execution_count": null,
      "outputs": [
        {
          "output_type": "stream",
          "name": "stdout",
          "text": [
            "[[4 1]\n",
            " [2 3]]\n"
          ]
        }
      ]
    },
    {
      "cell_type": "code",
      "source": [
        "import matplotlib.pyplot as plt\n",
        "import seaborn as sns\n",
        "\n",
        "ax = sns.heatmap(cf_matrix, annot=True, cmap='Blues')\n",
        "\n",
        "ax.set_title('Seaborn Confusion Matrix with labels\\n\\n');\n",
        "ax.set_xlabel('\\nPredicted Values')\n",
        "ax.set_ylabel('Actual Values ');\n",
        "\n",
        "## Ticket labels - List must be in alphabetical order\n",
        "ax.xaxis.set_ticklabels(['Dog','Cat'])\n",
        "ax.yaxis.set_ticklabels(['Dog','Cat'])\n",
        "\n",
        "## Display the visualization of the Confusion Matrix.\n",
        "plt.show()"
      ],
      "metadata": {
        "colab": {
          "base_uri": "https://localhost:8080/",
          "height": 337
        },
        "id": "faktEue91vtD",
        "outputId": "235ea45a-50fc-4f61-b6eb-ec0157090c47"
      },
      "execution_count": null,
      "outputs": [
        {
          "output_type": "display_data",
          "data": {
            "text/plain": [
              "<Figure size 432x288 with 2 Axes>"
            ],
            "image/png": "[encoded data removed]"
          },
          "metadata": {
            "needs_background": "light"
          }
        }
      ]
    },
    {
      "cell_type": "markdown",
      "source": [
        "* “True Positive” : correctly predicted dog as dog.\n",
        "* “False positive” : incorrectly predicted dog as cat.\n",
        "* “True Negative” : correctly predicted cat as cat.\n",
        "* “False Negative” : incorrectly predicted cat as dog.\n",
        "\n",
        "## Example: COVID vs Non-COVID"
      ],
      "metadata": {
        "id": "MHewWOWT2LMP"
      }
    },
    {
      "cell_type": "code",
      "source": [
        "# Confusion Matrix\n",
        "from sklearn.metrics import classification_report, confusion_matrix \n",
        "from sklearn.metrics import accuracy_score\n",
        "\n",
        "YTrue = ['COVID', 'COVID',     'Not-COVID', 'COVID', 'Not-COVID', 'Not-COVID', 'Not-COVID', 'COVID', 'COVID', 'Not-COVID']\n",
        "YPred = ['COVID', 'Not-COVID', 'COVID',     'COVID', 'Not-COVID', 'COVID',      'Not-COVID', 'COVID', 'COVID', 'Not-COVID']\n",
        "\n",
        "cf_matrix = confusion_matrix(YTrue, YPred, labels= ['Not-COVID', 'COVID'])\n",
        "print(cf_matrix)\n",
        "\n",
        "tn, fp, fn, tp = confusion_matrix(YTrue, YPred).ravel()\n",
        "print(tn, fp, fn, tp)\n",
        "\n",
        "cf_report = classification_report(YTrue, YPred)\n",
        "print(cf_report)\n",
        "\n",
        "import matplotlib.pyplot as plt\n",
        "import seaborn as sns\n",
        "\n",
        "ax = sns.heatmap(cf_matrix, annot=True, cmap='Blues')\n",
        "\n",
        "ax.set_title('Non-COVID & COVID Confusion Matrix\\n\\n');\n",
        "ax.set_ylabel('Actual Values ');\n",
        "ax.set_xlabel('\\nPredicted Values')\n",
        "\n",
        "## Ticket labels - List must be in alphabetical order\n",
        "ax.xaxis.set_ticklabels(['Not-COVID', 'COVID'])\n",
        "ax.yaxis.set_ticklabels(['Not-COVID', 'COVID'])\n",
        "\n",
        "## Display the visualization of the Confusion Matrix.\n",
        "plt.show()\n"
      ],
      "metadata": {
        "colab": {
          "base_uri": "https://localhost:8080/",
          "height": 541
        },
        "id": "lBx4xUDI6HSp",
        "outputId": "8fb69d84-2eb1-4089-f486-f745f1c46009"
      },
      "execution_count": null,
      "outputs": [
        {
          "output_type": "stream",
          "name": "stdout",
          "text": [
            "[[3 2]\n",
            " [1 4]]\n",
            "4 1 2 3\n",
            "              precision    recall  f1-score   support\n",
            "\n",
            "       COVID       0.67      0.80      0.73         5\n",
            "   Not-COVID       0.75      0.60      0.67         5\n",
            "\n",
            "    accuracy                           0.70        10\n",
            "   macro avg       0.71      0.70      0.70        10\n",
            "weighted avg       0.71      0.70      0.70        10\n",
            "\n"
          ]
        },
        {
          "output_type": "display_data",
          "data": {
            "text/plain": [
              "<Figure size 432x288 with 2 Axes>"
            ],
            "image/png": "[encoded data removed]"
          },
          "metadata": {
            "needs_background": "light"
          }
        }
      ]
    },
    {
      "cell_type": "markdown",
      "source": [
        "### Important point to note:\n",
        "\n",
        "*We always aim to reduce **FP** (Type-I error) and **FN** ((Type-II error)).*"
      ],
      "metadata": {
        "id": "g40F2GRmTAbK"
      }
    },
    {
      "cell_type": "code",
      "source": [
        "import sklearn.metrics\n",
        "import math\n",
        "import pandas as pd\n",
        "\n",
        "def matrix_metrix(real_values,pred_values,beta):\n",
        "   CM = confusion_matrix(real_values,pred_values)\n",
        "   TN = CM[1][1]\n",
        "   FP = CM[1][0] \n",
        "   TP = CM[0][0]\n",
        "   FN = CM[0][1]\n",
        "   Population = TN+FN+TP+FP\n",
        "   Prevalence = round( (TP+FP) / Population,2)\n",
        "   Accuracy   = round( (TP+TN) / Population,4)\n",
        "   Precision  = round( TP / (TP+FP),4 )\n",
        "   NPV        = round( TN / (TN+FN),4 )\n",
        "   FDR        = round( FP / (TP+FP),4 )\n",
        "   FOR        = round( FN / (TN+FN),4 ) \n",
        "   check_Pos  = Precision + FDR\n",
        "   check_Neg  = NPV + FOR\n",
        "   Recall     = round( TP / (TP+FN),4 )\n",
        "   FPR        = round( FP / (TN+FP),4 )\n",
        "   FNR        = round( FN / (TP+FN),4 )\n",
        "   TNR        = round( TN / (TN+FP),4 ) \n",
        "   check_Pos2 = Recall + FNR\n",
        "   check_Neg2 = FPR + TNR\n",
        "   LRPos      = round( Recall/FPR,4 ) \n",
        "   LRNeg      = round( FNR / TNR ,4 )\n",
        "   DOR        = round( LRPos/LRNeg)\n",
        "   F1         = round ( 2 * ((Precision*Recall)/(Precision+Recall)),4)\n",
        "   FBeta      = round ( (1+beta**2)*((Precision*Recall)/((beta**2 * Precision)+ Recall)) ,4)\n",
        "   MCC        = round ( ((TP*TN)-(FP*FN))/math.sqrt((TP+FP)*(TP+FN)*(TN+FP)*(TN+FN))  ,4)\n",
        "   BM         = Recall+TNR-1\n",
        "   MK         = Precision+NPV-1\n",
        "   mat_met = pd.DataFrame({\n",
        "'Metric':['TP','TN','FP','FN','Prevalence','Accuracy','Precision','NPV','FDR','FOR','check_Pos','check_Neg','Recall','FPR','FNR','TNR','check_Pos2','check_Neg2','LR+','LR-','DOR','F1','FBeta','MCC','BM','MK'],     'Value':[TP,TN,FP,FN,Prevalence,Accuracy,Precision,NPV,FDR,FOR,check_Pos,check_Neg,Recall,FPR,FNR,TNR,check_Pos2,check_Neg2,LRPos,LRNeg,DOR,F1,FBeta,MCC,BM,MK]})\n",
        "   return (mat_met)"
      ],
      "metadata": {
        "id": "yHtALYiePeiV"
      },
      "execution_count": null,
      "outputs": []
    },
    {
      "cell_type": "code",
      "source": [
        "matrix_metrix(YTrue,YPred,0.5)"
      ],
      "metadata": {
        "colab": {
          "base_uri": "https://localhost:8080/",
          "height": 855
        },
        "id": "OCL4kInKURfv",
        "outputId": "849652af-0f89-4965-a879-e2e8d956beb3"
      },
      "execution_count": null,
      "outputs": [
        {
          "output_type": "execute_result",
          "data": {
            "text/plain": [
              "        Metric   Value\n",
              "0           TP  4.0000\n",
              "1           TN  3.0000\n",
              "2           FP  2.0000\n",
              "3           FN  1.0000\n",
              "4   Prevalence  0.6000\n",
              "5     Accuracy  0.7000\n",
              "6    Precision  0.6667\n",
              "7          NPV  0.7500\n",
              "8          FDR  0.3333\n",
              "9          FOR  0.2500\n",
              "10   check_Pos  1.0000\n",
              "11   check_Neg  1.0000\n",
              "12      Recall  0.8000\n",
              "13         FPR  0.4000\n",
              "14         FNR  0.2000\n",
              "15         TNR  0.6000\n",
              "16  check_Pos2  1.0000\n",
              "17  check_Neg2  1.0000\n",
              "18         LR+  2.0000\n",
              "19         LR-  0.3333\n",
              "20         DOR  6.0000\n",
              "21          F1  0.7273\n",
              "22       FBeta  0.6897\n",
              "23         MCC  0.4082\n",
              "24          BM  0.4000\n",
              "25          MK  0.4167"
            ],
            "text/html": [
              "\n",
              "  <div id=\"df-b41cf974-f176-4eb3-b7c4-fe5c01993985\">\n",
              "    <div class=\"colab-df-container\">\n",
              "      <div>\n",
              "<style scoped>\n",
              "    .dataframe tbody tr th:only-of-type {\n",
              "        vertical-align: middle;\n",
              "    }\n",
              "\n",
              "    .dataframe tbody tr th {\n",
              "        vertical-align: top;\n",
              "    }\n",
              "\n",
              "    .dataframe thead th {\n",
              "        text-align: right;\n",
              "    }\n",
              "</style>\n",
              "<table border=\"1\" class=\"dataframe\">\n",
              "  <thead>\n",
              "    <tr style=\"text-align: right;\">\n",
              "      <th></th>\n",
              "      <th>Metric</th>\n",
              "      <th>Value</th>\n",
              "    </tr>\n",
              "  </thead>\n",
              "  <tbody>\n",
              "    <tr>\n",
              "      <th>0</th>\n",
              "      <td>TP</td>\n",
              "      <td>4.0000</td>\n",
              "    </tr>\n",
              "    <tr>\n",
              "      <th>1</th>\n",
              "      <td>TN</td>\n",
              "      <td>3.0000</td>\n",
              "    </tr>\n",
              "    <tr>\n",
              "      <th>2</th>\n",
              "      <td>FP</td>\n",
              "      <td>2.0000</td>\n",
              "    </tr>\n",
              "    <tr>\n",
              "      <th>3</th>\n",
              "      <td>FN</td>\n",
              "      <td>1.0000</td>\n",
              "    </tr>\n",
              "    <tr>\n",
              "      <th>4</th>\n",
              "      <td>Prevalence</td>\n",
              "      <td>0.6000</td>\n",
              "    </tr>\n",
              "    <tr>\n",
              "      <th>5</th>\n",
              "      <td>Accuracy</td>\n",
              "      <td>0.7000</td>\n",
              "    </tr>\n",
              "    <tr>\n",
              "      <th>6</th>\n",
              "      <td>Precision</td>\n",
              "      <td>0.6667</td>\n",
              "    </tr>\n",
              "    <tr>\n",
              "      <th>7</th>\n",
              "      <td>NPV</td>\n",
              "      <td>0.7500</td>\n",
              "    </tr>\n",
              "    <tr>\n",
              "      <th>8</th>\n",
              "      <td>FDR</td>\n",
              "      <td>0.3333</td>\n",
              "    </tr>\n",
              "    <tr>\n",
              "      <th>9</th>\n",
              "      <td>FOR</td>\n",
              "      <td>0.2500</td>\n",
              "    </tr>\n",
              "    <tr>\n",
              "      <th>10</th>\n",
              "      <td>check_Pos</td>\n",
              "      <td>1.0000</td>\n",
              "    </tr>\n",
              "    <tr>\n",
              "      <th>11</th>\n",
              "      <td>check_Neg</td>\n",
              "      <td>1.0000</td>\n",
              "    </tr>\n",
              "    <tr>\n",
              "      <th>12</th>\n",
              "      <td>Recall</td>\n",
              "      <td>0.8000</td>\n",
              "    </tr>\n",
              "    <tr>\n",
              "      <th>13</th>\n",
              "      <td>FPR</td>\n",
              "      <td>0.4000</td>\n",
              "    </tr>\n",
              "    <tr>\n",
              "      <th>14</th>\n",
              "      <td>FNR</td>\n",
              "      <td>0.2000</td>\n",
              "    </tr>\n",
              "    <tr>\n",
              "      <th>15</th>\n",
              "      <td>TNR</td>\n",
              "      <td>0.6000</td>\n",
              "    </tr>\n",
              "    <tr>\n",
              "      <th>16</th>\n",
              "      <td>check_Pos2</td>\n",
              "      <td>1.0000</td>\n",
              "    </tr>\n",
              "    <tr>\n",
              "      <th>17</th>\n",
              "      <td>check_Neg2</td>\n",
              "      <td>1.0000</td>\n",
              "    </tr>\n",
              "    <tr>\n",
              "      <th>18</th>\n",
              "      <td>LR+</td>\n",
              "      <td>2.0000</td>\n",
              "    </tr>\n",
              "    <tr>\n",
              "      <th>19</th>\n",
              "      <td>LR-</td>\n",
              "      <td>0.3333</td>\n",
              "    </tr>\n",
              "    <tr>\n",
              "      <th>20</th>\n",
              "      <td>DOR</td>\n",
              "      <td>6.0000</td>\n",
              "    </tr>\n",
              "    <tr>\n",
              "      <th>21</th>\n",
              "      <td>F1</td>\n",
              "      <td>0.7273</td>\n",
              "    </tr>\n",
              "    <tr>\n",
              "      <th>22</th>\n",
              "      <td>FBeta</td>\n",
              "      <td>0.6897</td>\n",
              "    </tr>\n",
              "    <tr>\n",
              "      <th>23</th>\n",
              "      <td>MCC</td>\n",
              "      <td>0.4082</td>\n",
              "    </tr>\n",
              "    <tr>\n",
              "      <th>24</th>\n",
              "      <td>BM</td>\n",
              "      <td>0.4000</td>\n",
              "    </tr>\n",
              "    <tr>\n",
              "      <th>25</th>\n",
              "      <td>MK</td>\n",
              "      <td>0.4167</td>\n",
              "    </tr>\n",
              "  </tbody>\n",
              "</table>\n",
              "</div>\n",
              "      <button class=\"colab-df-convert\" onclick=\"convertToInteractive('df-b41cf974-f176-4eb3-b7c4-fe5c01993985')\"\n",
              "              title=\"Convert this dataframe to an interactive table.\"\n",
              "              style=\"display:none;\">\n",
              "        \n",
              "  <svg xmlns=\"http://www.w3.org/2000/svg\" height=\"24px\"viewBox=\"0 0 24 24\"\n",
              "       width=\"24px\">\n",
              "    <path d=\"M0 0h24v24H0V0z\" fill=\"none\"/>\n",
              "    <path d=\"M18.56 5.44l.94 2.06.94-2.06 2.06-.94-2.06-.94-.94-2.06-.94 2.06-2.06.94zm-11 1L8.5 8.5l.94-2.06 2.06-.94-2.06-.94L8.5 2.5l-.94 2.06-2.06.94zm10 10l.94 2.06.94-2.06 2.06-.94-2.06-.94-.94-2.06-.94 2.06-2.06.94z\"/><path d=\"M17.41 7.96l-1.37-1.37c-.4-.4-.92-.59-1.43-.59-.52 0-1.04.2-1.43.59L10.3 9.45l-7.72 7.72c-.78.78-.78 2.05 0 2.83L4 21.41c.39.39.9.59 1.41.59.51 0 1.02-.2 1.41-.59l7.78-7.78 2.81-2.81c.8-.78.8-2.07 0-2.86zM5.41 20L4 18.59l7.72-7.72 1.47 1.35L5.41 20z\"/>\n",
              "  </svg>\n",
              "      </button>\n",
              "      \n",
              "  <style>\n",
              "    .colab-df-container {\n",
              "      display:flex;\n",
              "      flex-wrap:wrap;\n",
              "      gap: 12px;\n",
              "    }\n",
              "\n",
              "    .colab-df-convert {\n",
              "      background-color: #E8F0FE;\n",
              "      border: none;\n",
              "      border-radius: 50%;\n",
              "      cursor: pointer;\n",
              "      display: none;\n",
              "      fill: #1967D2;\n",
              "      height: 32px;\n",
              "      padding: 0 0 0 0;\n",
              "      width: 32px;\n",
              "    }\n",
              "\n",
              "    .colab-df-convert:hover {\n",
              "      background-color: #E2EBFA;\n",
              "      box-shadow: 0px 1px 2px rgba(60, 64, 67, 0.3), 0px 1px 3px 1px rgba(60, 64, 67, 0.15);\n",
              "      fill: #174EA6;\n",
              "    }\n",
              "\n",
              "    [theme=dark] .colab-df-convert {\n",
              "      background-color: #3B4455;\n",
              "      fill: #D2E3FC;\n",
              "    }\n",
              "\n",
              "    [theme=dark] .colab-df-convert:hover {\n",
              "      background-color: #434B5C;\n",
              "      box-shadow: 0px 1px 3px 1px rgba(0, 0, 0, 0.15);\n",
              "      filter: drop-shadow(0px 1px 2px rgba(0, 0, 0, 0.3));\n",
              "      fill: #FFFFFF;\n",
              "    }\n",
              "  </style>\n",
              "\n",
              "      <script>\n",
              "        const buttonEl =\n",
              "          document.querySelector('#df-b41cf974-f176-4eb3-b7c4-fe5c01993985 button.colab-df-convert');\n",
              "        buttonEl.style.display =\n",
              "          google.colab.kernel.accessAllowed ? 'block' : 'none';\n",
              "\n",
              "        async function convertToInteractive(key) {\n",
              "          const element = document.querySelector('#df-b41cf974-f176-4eb3-b7c4-fe5c01993985');\n",
              "          const dataTable =\n",
              "            await google.colab.kernel.invokeFunction('convertToInteractive',\n",
              "                                                     [key], {});\n",
              "          if (!dataTable) return;\n",
              "\n",
              "          const docLinkHtml = 'Like what you see? Visit the ' +\n",
              "            '<a target=\"_blank\" href=https://colab.research.google.com/notebooks/data_table.ipynb>data table notebook</a>'\n",
              "            + ' to learn more about interactive tables.';\n",
              "          element.innerHTML = '';\n",
              "          dataTable['output_type'] = 'display_data';\n",
              "          await google.colab.output.renderOutput(dataTable, element);\n",
              "          const docLink = document.createElement('div');\n",
              "          docLink.innerHTML = docLinkHtml;\n",
              "          element.appendChild(docLink);\n",
              "        }\n",
              "      </script>\n",
              "    </div>\n",
              "  </div>\n",
              "  "
            ]
          },
          "metadata": {},
          "execution_count": 23
        }
      ]
    },
    {
      "cell_type": "markdown",
      "source": [
        "### False Positive Rate: Type I error rate \n",
        "\n",
        "False positive rate (FPR) is probability of false alarm\n",
        "\n",
        "`FPR = FP / FP + TN`\n"
      ],
      "metadata": {
        "id": "mTKNwGzo8-BM"
      }
    },
    {
      "cell_type": "code",
      "source": [
        "FPR = (2 / (2 + 3)) \n",
        "print(FPR)"
      ],
      "metadata": {
        "id": "nvqF0vDS9f15",
        "colab": {
          "base_uri": "https://localhost:8080/"
        },
        "outputId": "6389ca5a-8b1e-4a51-c302-becf08b51052"
      },
      "execution_count": null,
      "outputs": [
        {
          "output_type": "stream",
          "name": "stdout",
          "text": [
            "0.4\n"
          ]
        }
      ]
    },
    {
      "cell_type": "markdown",
      "source": [
        "### False Negative Rate: Type II error rate\n",
        "\n",
        "`FNR = FN / TP + FN`"
      ],
      "metadata": {
        "id": "86ZIYhpzVocb"
      }
    },
    {
      "cell_type": "code",
      "source": [
        "FNR = (1 / (4 + 1)) \n",
        "print(FNR)"
      ],
      "metadata": {
        "colab": {
          "base_uri": "https://localhost:8080/"
        },
        "id": "9IWSC383W3wF",
        "outputId": "44ce06c2-79d9-46b2-dc60-ce1de0a4e5c5"
      },
      "execution_count": null,
      "outputs": [
        {
          "output_type": "stream",
          "name": "stdout",
          "text": [
            "0.2\n"
          ]
        }
      ]
    },
    {
      "cell_type": "markdown",
      "source": [
        "## Now Let's consider Imbalance Dataset\n",
        "\n",
        "Suppose we have 10K records, where label A being 9k and label B being 1K. Now suppose we are calculating the Accuracy, then its obvious that we will get a 90% accuracy were the model predicts most of the records being tagged to label A. Clearly this is not a good way of calculating the efficiency of the model if our dataset is not balanced. So, in such such situations we use `Recall`, `Precision`, `F-beta` as the classification metric\n",
        "\n",
        "We are now looking at the second half of the tree\n",
        "\n",
        "<p align=\"center\">\n",
        "  <img width=\"900\" height=\"500\" src=\"https://pbs.twimg.com/media/FPX2rSDXwAEXPkN?format=png&name=900x900\">\n",
        "</p>"
      ],
      "metadata": {
        "id": "3igxB0FQXX1r"
      }
    },
    {
      "cell_type": "markdown",
      "source": [
        "### Recall: Sensitivity, Hit Rate, or True Positive Rate (TPR)\n",
        "\n",
        "Recall says that out of the `total actual positive values`, how many `positive` were we able to predict correctly.\n",
        "\n",
        "*Example: If we have 100 Covid Positive Cases then out of 100 cases how many we have correctly predcited?*\n",
        "\n",
        "* Note: In case of Recall we deal with 'False Negative'\n",
        "\n",
        "<p align=\"center\">\n",
        "  <img width=\"450\" height=\"60\" src=\"https://miro.medium.com/max/1400/1*R6tkaVAzoAlCK4d7X3nBog.webp\">\n",
        "</p>\n",
        "\n"
      ],
      "metadata": {
        "id": "AiCfWdP3aQsP"
      }
    },
    {
      "cell_type": "code",
      "source": [
        "from sklearn.metrics import recall_score\n",
        "from sklearn.metrics import classification_report\n",
        "\n",
        "y_true = [0, 1, 2, 0, 1, 2]\n",
        "y_pred = [0, 2, 1, 0, 0, 1]\n",
        "\n",
        "## Calculate metrics for each label, and find their unweighted mean. \n",
        "## This does not take label imbalance into account.\n",
        "print(recall_score(y_true, y_pred, average='macro'))\n",
        "\n",
        "## Calculate metrics globally by counting the total true positives, \n",
        "## false negatives and false positives.\n",
        "print(recall_score(y_true, y_pred, average='micro'))\n",
        "\n",
        "## Calculate metrics for each label, and find their average weighted by support \n",
        "## (the number of true instances for each label). \n",
        "print(recall_score(y_true, y_pred, average='weighted'))\n",
        "\n",
        "print(classification_report(y_true, y_pred, target_names=['0', '1', '2']))"
      ],
      "metadata": {
        "colab": {
          "base_uri": "https://localhost:8080/"
        },
        "id": "9mwELY8F9RaQ",
        "outputId": "b4118e3c-5bc8-40c5-f0f3-82cbd379f7ef"
      },
      "execution_count": null,
      "outputs": [
        {
          "output_type": "stream",
          "name": "stdout",
          "text": [
            "0.3333333333333333\n",
            "0.3333333333333333\n",
            "0.3333333333333333\n",
            "              precision    recall  f1-score   support\n",
            "\n",
            "           0       0.67      1.00      0.80         2\n",
            "           1       0.00      0.00      0.00         2\n",
            "           2       0.00      0.00      0.00         2\n",
            "\n",
            "    accuracy                           0.33         6\n",
            "   macro avg       0.22      0.33      0.27         6\n",
            "weighted avg       0.22      0.33      0.27         6\n",
            "\n"
          ]
        }
      ]
    },
    {
      "cell_type": "markdown",
      "source": [
        "### Precision: (Positive Predictive Value (PPV))\n",
        "\n",
        "Precision says that out of the `total predicted positive result`, how many results were actually positive. \n",
        "\n",
        "* Note: in case of Precision we deal with 'False Positive'\n",
        "\n",
        "<p align=\"center\">\n",
        "  <img width=\"450\" height=\"60\" src=\"https://miro.medium.com/max/1400/1*iD_8Ty8kYQuTJcr55juRlw.webp\">\n",
        "</p>\n"
      ],
      "metadata": {
        "id": "4et-PPqnXuv4"
      }
    },
    {
      "cell_type": "code",
      "source": [
        "from sklearn.metrics import precision_score\n",
        "from sklearn.metrics import classification_report\n",
        "\n",
        "y_true = [0, 1, 2, 0, 1, 2]\n",
        "y_pred = [0, 2, 1, 0, 0, 1]\n",
        "\n",
        "## Calculate metrics for each label, and find their unweighted mean. \n",
        "## This does not take label imbalance into account.\n",
        "print(precision_score(y_true, y_pred, average='macro'))\n",
        "\n",
        "## Calculate metrics globally by counting the total true positives, \n",
        "## false negatives and false positives.\n",
        "print(precision_score(y_true, y_pred, average='micro'))\n",
        "\n",
        "## Calculate metrics for each label, and find their average weighted \n",
        "## by support (the number of true instances for each label).\n",
        "print(precision_score(y_true, y_pred, average='weighted'))\n",
        "\n",
        "print(classification_report(y_true, y_pred, target_names=['0', '1', '2']))"
      ],
      "metadata": {
        "colab": {
          "base_uri": "https://localhost:8080/"
        },
        "id": "-eV6z7jC-6LT",
        "outputId": "62119d4a-3ee7-45c2-de87-1e7832e80155"
      },
      "execution_count": null,
      "outputs": [
        {
          "output_type": "stream",
          "name": "stdout",
          "text": [
            "0.2222222222222222\n",
            "0.3333333333333333\n",
            "0.2222222222222222\n",
            "              precision    recall  f1-score   support\n",
            "\n",
            "           0       0.67      1.00      0.80         2\n",
            "           1       0.00      0.00      0.00         2\n",
            "           2       0.00      0.00      0.00         2\n",
            "\n",
            "    accuracy                           0.33         6\n",
            "   macro avg       0.22      0.33      0.27         6\n",
            "weighted avg       0.22      0.33      0.27         6\n",
            "\n"
          ]
        }
      ]
    },
    {
      "cell_type": "markdown",
      "source": [
        "## Precision Vs Recall\n",
        "\n",
        "Now let’s take few examples to better understand the scenarios where we could use Precision or Recall:\n",
        "\n",
        "**Example 1: SPAM Detection**\n",
        "\n",
        "\n",
        "<p align=\"center\">\n",
        "  <img width=\"400\" height=\"200\" src=\"https://miro.medium.com/max/1400/1*hsyCZOYoGrX6BJsj4Lgrhg.png\">\n",
        "</p>\n",
        "\n",
        "\n",
        "In this case, we mostly have to consider the `Precision`. Let’s say we got an email which is originally not a spam, but the model detected it as a spam, which means it is a `False Positive`. At last: the user is going to miss an email, which may be of high importance.\n",
        "\n",
        "Note: *In such cases, where the False Positive value is high, our main focus should always be to reduce it to minimum.*\n",
        "\n",
        "**Example 2: Cancer Detection**\n",
        "\n",
        "In this case, we mostly have to consider the `Recall`. Now let’s say our model is tasked to predict whether a person is having Cancer or not. Suppose the model predicted it as not having Cancer whereas he was actually having Cancer which is a `False Negative`. This might turn out to be a blunder by the model.\n",
        "\n",
        "In such cases a `False Positive` won’t be a very big issue because even if the person is not having Cancer but is predicted as Cancer then he/she could go for another test to verify the result. But if the person has Cancer and is predicted as negative (`False Negative`) then chances are he might not go for another test which might turn out to be a disaster.\n",
        "\n",
        "Therefore, it’s important to use `Recall` in such situations.\n",
        "\n",
        "\n",
        "**NOTE**: Our goal should always be to reduce `Precision` and `Recall`, however:\n",
        "\n",
        "* Whenever the `False Positive` is of more importance with respect to the problem statement, then use `Precision`. \n",
        "\n",
        "* If the False Negative has greater importance with respect to the problem statement, then use Recall.\n",
        "\n"
      ],
      "metadata": {
        "id": "bWMaFyG8dTUq"
      }
    },
    {
      "cell_type": "markdown",
      "source": [
        "## F-Beta\n",
        "\n",
        "Sometimes both the `False Positive` and `False Negative` play an important role in an imbalanced dataset. In such cases, we have to consider both Recall and Precision.\n",
        "\n",
        "<p align=\"center\">\n",
        "  <img width=\"350\" height=\"50\" src=\"https://i1.wp.com/neptune.ai/wp-content/uploads/fbeta_eq.png?fit=604%2C88&ssl=1\">\n",
        "</p>\n",
        "\n",
        "So, if we are considering both these metrics, the we have to use the F-Beta score.\n",
        "\n",
        "If the Beta value is 1, then the F-Beta becomes a F1-Score. Sometimes, Beta value can also be 0.5 or 2\n",
        "\n",
        "If the Beta value is 1, then:\n",
        "\n",
        "<p align=\"center\">\n",
        "  <img width=\"300\" height=\"55\" src=\"https://hassetukda.files.wordpress.com/2012/08/f12.jpg\">\n",
        "</p>\n",
        "\n",
        "The above formula is a representation of Harmonic mean between Precision and Recall. Now, let’s understand when to choose what values of Beta.\n",
        "\n",
        "### Beta = 1\n",
        "If both False Positive and False Negative are equally important, then we will select Beta = 1. \n",
        "\n",
        "### Beta <= 1 or close to 0\n",
        "Suppose `False Positive` is having more impact than the `False Negative`, then we need to reduce the Beta value by selecting something between 0 to 1. \n",
        "Example: SPAM Detection\n",
        "\n",
        "### Beta >= 1\n",
        "Suppose the `False Negative` impact is high which is basically the Recall, then in such cases we increase the Beta value more than 1.\n",
        "Example: Cancer Detection"
      ],
      "metadata": {
        "id": "chxnGzc7_ipL"
      }
    },
    {
      "cell_type": "code",
      "source": [
        "# Example: Wine Dataset\n",
        "\n",
        "from sklearn import datasets\n",
        "from sklearn.tree import DecisionTreeClassifier\n",
        "from sklearn.model_selection import train_test_split\n",
        "from sklearn.metrics import classification_report, confusion_matrix"
      ],
      "metadata": {
        "id": "lxWDA6lhzWew"
      },
      "execution_count": null,
      "outputs": []
    },
    {
      "cell_type": "code",
      "source": [
        "wine = datasets.load_wine()\n",
        "X = wine.data\n",
        "y = wine.target\n",
        "\n",
        "class_names = wine.target_names\n",
        "print(class_names)\n",
        "X_train, X_test, y_train, y_test = train_test_split(X, y, test_size=0.30)"
      ],
      "metadata": {
        "colab": {
          "base_uri": "https://localhost:8080/"
        },
        "id": "H1-1jzYdzePb",
        "outputId": "f7604c78-576a-4054-e118-fb89ab8ac83f"
      },
      "execution_count": null,
      "outputs": [
        {
          "output_type": "stream",
          "name": "stdout",
          "text": [
            "['class_0' 'class_1' 'class_2']\n"
          ]
        }
      ]
    },
    {
      "cell_type": "code",
      "source": [
        "classifier_tree = DecisionTreeClassifier()\n",
        "y_predict = classifier_tree.fit(X_train, y_train).predict(X_test)"
      ],
      "metadata": {
        "id": "Po6w1WZHznU5"
      },
      "execution_count": null,
      "outputs": []
    },
    {
      "cell_type": "code",
      "source": [
        "print(classification_report(y_test, y_predict, target_names=class_names))\n",
        "print(confusion_matrix(y_test, y_predict))"
      ],
      "metadata": {
        "colab": {
          "base_uri": "https://localhost:8080/"
        },
        "id": "9Y_tnzb-zsOI",
        "outputId": "cc1c0a47-2ec5-4061-e42b-142675d3605d"
      },
      "execution_count": null,
      "outputs": [
        {
          "output_type": "stream",
          "name": "stdout",
          "text": [
            "              precision    recall  f1-score   support\n",
            "\n",
            "     class_0       0.88      0.82      0.85        17\n",
            "     class_1       0.83      0.75      0.79        20\n",
            "     class_2       0.85      1.00      0.92        17\n",
            "\n",
            "    accuracy                           0.85        54\n",
            "   macro avg       0.85      0.86      0.85        54\n",
            "weighted avg       0.85      0.85      0.85        54\n",
            "\n",
            "[[14  3  0]\n",
            " [ 2 15  3]\n",
            " [ 0  0 17]]\n"
          ]
        }
      ]
    }
  ]
}